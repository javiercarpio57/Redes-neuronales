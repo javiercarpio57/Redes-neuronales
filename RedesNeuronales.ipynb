{
 "cells": [
  {
   "cell_type": "markdown",
   "metadata": {},
   "source": [
    "# Redes neuronales"
   ]
  },
  {
   "cell_type": "markdown",
   "metadata": {},
   "source": [
    "Se utilizó el dataset <b>Fasion MNIST</b> de https://www.kaggle.com/zalando-research/fashionmnist"
   ]
  },
  {
   "cell_type": "markdown",
   "metadata": {},
   "source": [
    "## Import de librerías"
   ]
  },
  {
   "cell_type": "code",
   "execution_count": 2,
   "metadata": {},
   "outputs": [],
   "source": [
    "import numpy as np\n",
    "import pandas as pd\n",
    "from functools import reduce\n",
    "from scipy import optimize as op"
   ]
  },
  {
   "cell_type": "code",
   "execution_count": 3,
   "metadata": {},
   "outputs": [],
   "source": [
    "from PIL import Image\n",
    "import matplotlib.pyplot as plt\n",
    "import matplotlib.image as mpimg"
   ]
  },
  {
   "cell_type": "code",
   "execution_count": 4,
   "metadata": {},
   "outputs": [],
   "source": [
    "from RedesNeuronales import *\n",
    "from utilities import *"
   ]
  },
  {
   "cell_type": "code",
   "execution_count": 5,
   "metadata": {},
   "outputs": [],
   "source": [
    "import time"
   ]
  },
  {
   "cell_type": "markdown",
   "metadata": {},
   "source": [
    "## Lectura de CSV"
   ]
  },
  {
   "cell_type": "code",
   "execution_count": 9,
   "metadata": {},
   "outputs": [
    {
     "name": "stdout",
     "output_type": "stream",
     "text": [
      "Lectura de mnist_train\n",
      "Lectura de mnist_test\n"
     ]
    }
   ],
   "source": [
    "print(\"Lectura de mnist_train\")\n",
    "dataset_train = pd.read_csv('fashion-mnist_train.csv')\n",
    "\n",
    "print(\"Lectura de mnist_test\")\n",
    "dataset_test = pd.read_csv('fashion-mnist_test.csv')"
   ]
  },
  {
   "cell_type": "markdown",
   "metadata": {},
   "source": [
    "## Estructuración de datos"
   ]
  },
  {
   "cell_type": "code",
   "execution_count": 10,
   "metadata": {},
   "outputs": [],
   "source": [
    "# Normalizar los datasets de X (train y test)\n",
    "x_1 = dataset_train.iloc[:, 1:] / 1000.0\n",
    "m1, n1 = x_1.shape\n",
    "\n",
    "x_2 = dataset_test.iloc[:, 1:] / 1000.0\n",
    "m2, n2 = x_2.shape\n",
    "\n",
    "# Union de ambos datasets\n",
    "X = np.vstack((\n",
    "    x_1,\n",
    "    x_2\n",
    "))\n",
    "m, n = X.shape"
   ]
  },
  {
   "cell_type": "code",
   "execution_count": 11,
   "metadata": {},
   "outputs": [],
   "source": [
    "# Datasets de Y (train y test)\n",
    "y_1 = np.asarray(dataset_train.iloc[:, 0])\n",
    "y_1 = y_1.reshape(m1, 1)\n",
    "\n",
    "y_2 = np.asarray(dataset_test.iloc[:, 0])\n",
    "y_2 = y_2.reshape(m2, 1)\n",
    "\n",
    "# Union de ambos datasets\n",
    "y = np.vstack((\n",
    "    y_1,\n",
    "    y_2\n",
    "))\n",
    "y = y.reshape(m, 1)\n",
    "\n",
    "# Vector -> Matriz de categorizacion\n",
    "Y = (y == np.array(range(10))).astype(int)"
   ]
  },
  {
   "cell_type": "code",
   "execution_count": 12,
   "metadata": {},
   "outputs": [],
   "source": [
    "# Estructura de la red neuronal\n",
    "NEURAL_NET = np.array([\n",
    "    n,\n",
    "    130,\n",
    "    10\n",
    "])"
   ]
  },
  {
   "cell_type": "code",
   "execution_count": 13,
   "metadata": {},
   "outputs": [],
   "source": [
    "# Se obtienen las shapes de las thetas\n",
    "theta_shapes = np.hstack((\n",
    "    NEURAL_NET[1:].reshape(len(NEURAL_NET) - 1, 1),\n",
    "    (NEURAL_NET[:-1] + 1).reshape(len(NEURAL_NET) - 1, 1)\n",
    "))"
   ]
  },
  {
   "cell_type": "code",
   "execution_count": 14,
   "metadata": {},
   "outputs": [],
   "source": [
    "# Matrix -> array de thetas\n",
    "flat_thetas = flatten_list_of_arrays([\n",
    "    np.random.rand(*theta_shape)\n",
    "    for theta_shape in theta_shapes\n",
    "])"
   ]
  },
  {
   "cell_type": "markdown",
   "metadata": {},
   "source": [
    "## 1. Desarrollo de red neuronal"
   ]
  },
  {
   "cell_type": "markdown",
   "metadata": {},
   "source": [
    "Este procedimiento de para optimizar el valor de theta's de transición puede tardar entre 3 y 4 horas."
   ]
  },
  {
   "cell_type": "markdown",
   "metadata": {},
   "source": [
    "Se recomienda no no ejecutar esta sección del código a menos que se desee esperar."
   ]
  },
  {
   "cell_type": "code",
   "execution_count": null,
   "metadata": {},
   "outputs": [],
   "source": [
    "# Optimizacion para encontrar thetas\n",
    "print(\"\\n---------------- OPTIMIZING ----------------\\n\")\n",
    "result = op.minimize(\n",
    "    fun = cost_function,\n",
    "    x0 = flat_thetas,\n",
    "    args = (theta_shapes, X, Y),\n",
    "    method = 'L-BFGS-B',\n",
    "    jac = back_propagation,\n",
    "    options = {'disp': True, 'maxiter': 3000}\n",
    ")\n",
    "print(\"\\n---------------- OPTIMIZED ----------------\\n\")"
   ]
  },
  {
   "cell_type": "code",
   "execution_count": null,
   "metadata": {},
   "outputs": [],
   "source": [
    "# Se guarda el resultado de thetas optimizadas\n",
    "np.savetxt('thetas_op.txt', result.x)"
   ]
  },
  {
   "cell_type": "markdown",
   "metadata": {},
   "source": [
    "## 2. Análisis de resultados."
   ]
  },
  {
   "cell_type": "markdown",
   "metadata": {},
   "source": [
    "En caso se desee probar con un dataset nuevo, cambiar \"dataset_test\" por su nuevo dataset."
   ]
  },
  {
   "cell_type": "code",
   "execution_count": 15,
   "metadata": {},
   "outputs": [],
   "source": [
    "x_test = dataset_test.iloc[:, 1:] / 1000.0\n",
    "y_test = np.asarray(dataset_test.iloc[:, 0]).reshape(x_test.shape[0], 1)"
   ]
  },
  {
   "cell_type": "code",
   "execution_count": 16,
   "metadata": {},
   "outputs": [],
   "source": [
    "# Resultado de thetas optimizadas\n",
    "flat_thetas_op = readFile(\"thetas_op.txt\")"
   ]
  },
  {
   "cell_type": "code",
   "execution_count": 17,
   "metadata": {},
   "outputs": [],
   "source": [
    "# Array de thetas -> matriz de thetas\n",
    "Thetas = inflate_matrixes(flat_thetas_op, theta_shapes)"
   ]
  },
  {
   "cell_type": "code",
   "execution_count": 18,
   "metadata": {},
   "outputs": [],
   "source": [
    "# Ejecucion de feed forward para obtener prediccion\n",
    "a = feed_forward(Thetas, x_test)"
   ]
  },
  {
   "cell_type": "code",
   "execution_count": 19,
   "metadata": {},
   "outputs": [],
   "source": [
    "# Se obtienen los indices del porcentaje mas alto\n",
    "maximos = np.argmax(a[-1], axis = 1)"
   ]
  },
  {
   "cell_type": "code",
   "execution_count": 20,
   "metadata": {},
   "outputs": [
    {
     "name": "stdout",
     "output_type": "stream",
     "text": [
      "Success:  8825 88.25\n"
     ]
    }
   ],
   "source": [
    "success = 0\n",
    "for i in range(len(a[-1])):\n",
    "    if (maximos[i] == y_test[i][0]):\n",
    "        success += 1\n",
    "        \n",
    "print(\"Success: \", success, success * 100/len(a[-1]))"
   ]
  },
  {
   "cell_type": "markdown",
   "metadata": {},
   "source": [
    "Del paso anterior, vemos que se obtiene un accuracy del 88.25% (para este caso en particular)."
   ]
  },
  {
   "cell_type": "markdown",
   "metadata": {},
   "source": [
    "## Visualizacion de imagenes"
   ]
  },
  {
   "cell_type": "code",
   "execution_count": 21,
   "metadata": {
    "scrolled": true
   },
   "outputs": [],
   "source": [
    "x_test = dataset_test.iloc[:, 1:]"
   ]
  },
  {
   "cell_type": "code",
   "execution_count": 23,
   "metadata": {},
   "outputs": [
    {
     "data": {
      "image/png": "[encoded data removed]",
      "text/plain": [
       "<Figure size 432x288 with 1 Axes>"
      ]
     },
     "metadata": {
      "needs_background": "light"
     },
     "output_type": "display_data"
    },
    {
     "name": "stdout",
     "output_type": "stream",
     "text": [
      "Predicho: Sandal\n",
      "Real: Sandal\n",
      "\n",
      "1. Mostrar siguiente imagen\n",
      "2. Salir.\n",
      "1\n"
     ]
    },
    {
     "data": {
      "image/png": "[encoded data removed]",
      "text/plain": [
       "<Figure size 432x288 with 1 Axes>"
      ]
     },
     "metadata": {
      "needs_background": "light"
     },
     "output_type": "display_data"
    },
    {
     "name": "stdout",
     "output_type": "stream",
     "text": [
      "Predicho: Bag\n",
      "Real: Bag\n",
      "\n",
      "1. Mostrar siguiente imagen\n",
      "2. Salir.\n",
      "1\n"
     ]
    },
    {
     "data": {
      "image/png": "[encoded data removed]",
      "text/plain": [
       "<Figure size 432x288 with 1 Axes>"
      ]
     },
     "metadata": {
      "needs_background": "light"
     },
     "output_type": "display_data"
    },
    {
     "name": "stdout",
     "output_type": "stream",
     "text": [
      "Predicho: Coat\n",
      "Real: Coat\n",
      "\n",
      "1. Mostrar siguiente imagen\n",
      "2. Salir.\n",
      "1\n"
     ]
    },
    {
     "data": {
      "image/png": "[encoded data removed]",
      "text/plain": [
       "<Figure size 432x288 with 1 Axes>"
      ]
     },
     "metadata": {
      "needs_background": "light"
     },
     "output_type": "display_data"
    },
    {
     "name": "stdout",
     "output_type": "stream",
     "text": [
      "Predicho: Dress\n",
      "Real: Dress\n",
      "\n",
      "1. Mostrar siguiente imagen\n",
      "2. Salir.\n",
      "1\n"
     ]
    },
    {
     "data": {
      "image/png": "[encoded data removed]",
      "text/plain": [
       "<Figure size 432x288 with 1 Axes>"
      ]
     },
     "metadata": {
      "needs_background": "light"
     },
     "output_type": "display_data"
    },
    {
     "name": "stdout",
     "output_type": "stream",
     "text": [
      "Predicho: T-shirt/top\n",
      "Real: T-shirt/top\n",
      "\n",
      "1. Mostrar siguiente imagen\n",
      "2. Salir.\n",
      "1\n"
     ]
    },
    {
     "data": {
      "image/png": "[encoded data removed]",
      "text/plain": [
       "<Figure size 432x288 with 1 Axes>"
      ]
     },
     "metadata": {
      "needs_background": "light"
     },
     "output_type": "display_data"
    },
    {
     "name": "stdout",
     "output_type": "stream",
     "text": [
      "Predicho: Coat\n",
      "Real: Coat\n",
      "\n",
      "1. Mostrar siguiente imagen\n",
      "2. Salir.\n",
      "1\n"
     ]
    },
    {
     "data": {
      "image/png": "[encoded data removed]",
      "text/plain": [
       "<Figure size 432x288 with 1 Axes>"
      ]
     },
     "metadata": {
      "needs_background": "light"
     },
     "output_type": "display_data"
    },
    {
     "name": "stdout",
     "output_type": "stream",
     "text": [
      "Predicho: Bag\n",
      "Real: Bag\n",
      "\n",
      "1. Mostrar siguiente imagen\n",
      "2. Salir.\n",
      "1\n"
     ]
    },
    {
     "data": {
      "image/png": "[encoded data removed]",
      "text/plain": [
       "<Figure size 432x288 with 1 Axes>"
      ]
     },
     "metadata": {
      "needs_background": "light"
     },
     "output_type": "display_data"
    },
    {
     "name": "stdout",
     "output_type": "stream",
     "text": [
      "Predicho: Sneaker\n",
      "Real: Sneaker\n",
      "\n",
      "1. Mostrar siguiente imagen\n",
      "2. Salir.\n",
      "1\n"
     ]
    },
    {
     "data": {
      "image/png": "[encoded data removed]",
      "text/plain": [
       "<Figure size 432x288 with 1 Axes>"
      ]
     },
     "metadata": {
      "needs_background": "light"
     },
     "output_type": "display_data"
    },
    {
     "name": "stdout",
     "output_type": "stream",
     "text": [
      "Predicho: Sandal\n",
      "Real: Sandal\n",
      "\n",
      "1. Mostrar siguiente imagen\n",
      "2. Salir.\n",
      "1\n"
     ]
    },
    {
     "data": {
      "image/png": "[encoded data removed]",
      "text/plain": [
       "<Figure size 432x288 with 1 Axes>"
      ]
     },
     "metadata": {
      "needs_background": "light"
     },
     "output_type": "display_data"
    },
    {
     "name": "stdout",
     "output_type": "stream",
     "text": [
      "Predicho: Sneaker\n",
      "Real: Sneaker\n",
      "\n",
      "1. Mostrar siguiente imagen\n",
      "2. Salir.\n",
      "1\n"
     ]
    },
    {
     "data": {
      "image/png": "[encoded data removed]",
      "text/plain": [
       "<Figure size 432x288 with 1 Axes>"
      ]
     },
     "metadata": {
      "needs_background": "light"
     },
     "output_type": "display_data"
    },
    {
     "name": "stdout",
     "output_type": "stream",
     "text": [
      "Predicho: Sneaker\n",
      "Real: Sneaker\n",
      "\n",
      "1. Mostrar siguiente imagen\n",
      "2. Salir.\n",
      "1\n"
     ]
    },
    {
     "data": {
      "image/png": "[encoded data removed]",
      "text/plain": [
       "<Figure size 432x288 with 1 Axes>"
      ]
     },
     "metadata": {
      "needs_background": "light"
     },
     "output_type": "display_data"
    },
    {
     "name": "stdout",
     "output_type": "stream",
     "text": [
      "Predicho: Dress\n",
      "Real: Dress\n",
      "\n",
      "1. Mostrar siguiente imagen\n",
      "2. Salir.\n",
      "1\n"
     ]
    },
    {
     "data": {
      "image/png": "[encoded data removed]",
      "text/plain": [
       "<Figure size 432x288 with 1 Axes>"
      ]
     },
     "metadata": {
      "needs_background": "light"
     },
     "output_type": "display_data"
    },
    {
     "name": "stdout",
     "output_type": "stream",
     "text": [
      "Predicho: Ankle boot\n",
      "Real: Ankle boot\n",
      "\n",
      "1. Mostrar siguiente imagen\n",
      "2. Salir.\n",
      "1\n"
     ]
    },
    {
     "data": {
      "image/png": "[encoded data removed]",
      "text/plain": [
       "<Figure size 432x288 with 1 Axes>"
      ]
     },
     "metadata": {
      "needs_background": "light"
     },
     "output_type": "display_data"
    },
    {
     "name": "stdout",
     "output_type": "stream",
     "text": [
      "Predicho: Shirt\n",
      "Real: Shirt\n",
      "\n",
      "1. Mostrar siguiente imagen\n",
      "2. Salir.\n",
      "1\n"
     ]
    },
    {
     "data": {
      "image/png": "[encoded data removed]",
      "text/plain": [
       "<Figure size 432x288 with 1 Axes>"
      ]
     },
     "metadata": {
      "needs_background": "light"
     },
     "output_type": "display_data"
    },
    {
     "name": "stdout",
     "output_type": "stream",
     "text": [
      "Predicho: Coat\n",
      "Real: Coat\n",
      "\n",
      "1. Mostrar siguiente imagen\n",
      "2. Salir.\n",
      "1\n"
     ]
    },
    {
     "data": {
      "image/png": "[encoded data removed]",
      "text/plain": [
       "<Figure size 432x288 with 1 Axes>"
      ]
     },
     "metadata": {
      "needs_background": "light"
     },
     "output_type": "display_data"
    },
    {
     "name": "stdout",
     "output_type": "stream",
     "text": [
      "Predicho: T-shirt/top\n",
      "Real: T-shirt/top\n",
      "\n",
      "1. Mostrar siguiente imagen\n",
      "2. Salir.\n",
      "1\n"
     ]
    },
    {
     "data": {
      "image/png": "[encoded data removed]",
      "text/plain": [
       "<Figure size 432x288 with 1 Axes>"
      ]
     },
     "metadata": {
      "needs_background": "light"
     },
     "output_type": "display_data"
    },
    {
     "name": "stdout",
     "output_type": "stream",
     "text": [
      "Predicho: Ankle boot\n",
      "Real: Ankle boot\n",
      "\n",
      "1. Mostrar siguiente imagen\n",
      "2. Salir.\n",
      "1\n"
     ]
    },
    {
     "data": {
      "image/png": "[encoded data removed]",
      "text/plain": [
       "<Figure size 432x288 with 1 Axes>"
      ]
     },
     "metadata": {
      "needs_background": "light"
     },
     "output_type": "display_data"
    },
    {
     "name": "stdout",
     "output_type": "stream",
     "text": [
      "Predicho: Dress\n",
      "Real: Dress\n",
      "\n",
      "1. Mostrar siguiente imagen\n",
      "2. Salir.\n",
      "1\n"
     ]
    },
    {
     "data": {
      "image/png": "[encoded data removed]",
      "text/plain": [
       "<Figure size 432x288 with 1 Axes>"
      ]
     },
     "metadata": {
      "needs_background": "light"
     },
     "output_type": "display_data"
    },
    {
     "name": "stdout",
     "output_type": "stream",
     "text": [
      "Predicho: Shirt\n",
      "Real: Shirt\n",
      "\n",
      "1. Mostrar siguiente imagen\n",
      "2. Salir.\n",
      "1\n"
     ]
    },
    {
     "data": {
      "image/png": "[encoded data removed]",
      "text/plain": [
       "<Figure size 432x288 with 1 Axes>"
      ]
     },
     "metadata": {
      "needs_background": "light"
     },
     "output_type": "display_data"
    },
    {
     "name": "stdout",
     "output_type": "stream",
     "text": [
      "Predicho: T-shirt/top\n",
      "Real: T-shirt/top\n",
      "\n",
      "1. Mostrar siguiente imagen\n",
      "2. Salir.\n",
      "1\n"
     ]
    },
    {
     "data": {
      "image/png": "[encoded data removed]",
      "text/plain": [
       "<Figure size 432x288 with 1 Axes>"
      ]
     },
     "metadata": {
      "needs_background": "light"
     },
     "output_type": "display_data"
    },
    {
     "name": "stdout",
     "output_type": "stream",
     "text": [
      "Predicho: Dress\n",
      "Real: T-shirt/top\n",
      "\n",
      "1. Mostrar siguiente imagen\n",
      "2. Salir.\n",
      "1\n"
     ]
    },
    {
     "data": {
      "image/png": "[encoded data removed]",
      "text/plain": [
       "<Figure size 432x288 with 1 Axes>"
      ]
     },
     "metadata": {
      "needs_background": "light"
     },
     "output_type": "display_data"
    },
    {
     "name": "stdout",
     "output_type": "stream",
     "text": [
      "Predicho: Pullover\n",
      "Real: Pullover\n",
      "\n",
      "1. Mostrar siguiente imagen\n",
      "2. Salir.\n",
      "1\n"
     ]
    },
    {
     "data": {
      "image/png": "[encoded data removed]",
      "text/plain": [
       "<Figure size 432x288 with 1 Axes>"
      ]
     },
     "metadata": {
      "needs_background": "light"
     },
     "output_type": "display_data"
    },
    {
     "name": "stdout",
     "output_type": "stream",
     "text": [
      "Predicho: Trouser\n",
      "Real: Trouser\n",
      "\n",
      "1. Mostrar siguiente imagen\n",
      "2. Salir.\n",
      "1\n"
     ]
    },
    {
     "data": {
      "image/png": "[encoded data removed]",
      "text/plain": [
       "<Figure size 432x288 with 1 Axes>"
      ]
     },
     "metadata": {
      "needs_background": "light"
     },
     "output_type": "display_data"
    },
    {
     "name": "stdout",
     "output_type": "stream",
     "text": [
      "Predicho: Ankle boot\n",
      "Real: Ankle boot\n",
      "\n",
      "1. Mostrar siguiente imagen\n",
      "2. Salir.\n",
      "1\n"
     ]
    },
    {
     "data": {
      "image/png": "[encoded data removed]",
      "text/plain": [
       "<Figure size 432x288 with 1 Axes>"
      ]
     },
     "metadata": {
      "needs_background": "light"
     },
     "output_type": "display_data"
    },
    {
     "name": "stdout",
     "output_type": "stream",
     "text": [
      "Predicho: Sneaker\n",
      "Real: Sneaker\n",
      "\n",
      "1. Mostrar siguiente imagen\n",
      "2. Salir.\n",
      "1\n"
     ]
    },
    {
     "data": {
      "image/png": "[encoded data removed]",
      "text/plain": [
       "<Figure size 432x288 with 1 Axes>"
      ]
     },
     "metadata": {
      "needs_background": "light"
     },
     "output_type": "display_data"
    },
    {
     "name": "stdout",
     "output_type": "stream",
     "text": [
      "Predicho: Bag\n",
      "Real: Bag\n",
      "\n",
      "1. Mostrar siguiente imagen\n",
      "2. Salir.\n",
      "1\n"
     ]
    },
    {
     "data": {
      "image/png": "[encoded data removed]",
      "text/plain": [
       "<Figure size 432x288 with 1 Axes>"
      ]
     },
     "metadata": {
      "needs_background": "light"
     },
     "output_type": "display_data"
    },
    {
     "name": "stdout",
     "output_type": "stream",
     "text": [
      "Predicho: Dress\n",
      "Real: Dress\n",
      "\n",
      "1. Mostrar siguiente imagen\n",
      "2. Salir.\n",
      "1\n"
     ]
    },
    {
     "data": {
      "image/png": "[encoded data removed]",
      "text/plain": [
       "<Figure size 432x288 with 1 Axes>"
      ]
     },
     "metadata": {
      "needs_background": "light"
     },
     "output_type": "display_data"
    },
    {
     "name": "stdout",
     "output_type": "stream",
     "text": [
      "Predicho: Bag\n",
      "Real: Bag\n",
      "\n",
      "1. Mostrar siguiente imagen\n",
      "2. Salir.\n",
      "1\n"
     ]
    },
    {
     "data": {
      "image/png": "[encoded data removed]",
      "text/plain": [
       "<Figure size 432x288 with 1 Axes>"
      ]
     },
     "metadata": {
      "needs_background": "light"
     },
     "output_type": "display_data"
    },
    {
     "name": "stdout",
     "output_type": "stream",
     "text": [
      "Predicho: T-shirt/top\n",
      "Real: T-shirt/top\n",
      "\n",
      "1. Mostrar siguiente imagen\n",
      "2. Salir.\n",
      "1\n"
     ]
    },
    {
     "data": {
      "image/png": "[encoded data removed]",
      "text/plain": [
       "<Figure size 432x288 with 1 Axes>"
      ]
     },
     "metadata": {
      "needs_background": "light"
     },
     "output_type": "display_data"
    },
    {
     "name": "stdout",
     "output_type": "stream",
     "text": [
      "Predicho: T-shirt/top\n",
      "Real: T-shirt/top\n",
      "\n",
      "1. Mostrar siguiente imagen\n",
      "2. Salir.\n",
      "1\n"
     ]
    },
    {
     "data": {
      "image/png": "[encoded data removed]",
      "text/plain": [
       "<Figure size 432x288 with 1 Axes>"
      ]
     },
     "metadata": {
      "needs_background": "light"
     },
     "output_type": "display_data"
    },
    {
     "name": "stdout",
     "output_type": "stream",
     "text": [
      "Predicho: T-shirt/top\n",
      "Real: Shirt\n",
      "\n",
      "1. Mostrar siguiente imagen\n",
      "2. Salir.\n",
      "1\n"
     ]
    },
    {
     "data": {
      "image/png": "[encoded data removed]",
      "text/plain": [
       "<Figure size 432x288 with 1 Axes>"
      ]
     },
     "metadata": {
      "needs_background": "light"
     },
     "output_type": "display_data"
    },
    {
     "name": "stdout",
     "output_type": "stream",
     "text": [
      "Predicho: Trouser\n",
      "Real: Trouser\n",
      "\n",
      "1. Mostrar siguiente imagen\n",
      "2. Salir.\n",
      "1\n"
     ]
    },
    {
     "data": {
      "image/png": "[encoded data removed]",
      "text/plain": [
       "<Figure size 432x288 with 1 Axes>"
      ]
     },
     "metadata": {
      "needs_background": "light"
     },
     "output_type": "display_data"
    },
    {
     "name": "stdout",
     "output_type": "stream",
     "text": [
      "Predicho: Trouser\n",
      "Real: Trouser\n",
      "\n",
      "1. Mostrar siguiente imagen\n",
      "2. Salir.\n",
      "1\n"
     ]
    },
    {
     "data": {
      "image/png": "[encoded data removed]",
      "text/plain": [
       "<Figure size 432x288 with 1 Axes>"
      ]
     },
     "metadata": {
      "needs_background": "light"
     },
     "output_type": "display_data"
    },
    {
     "name": "stdout",
     "output_type": "stream",
     "text": [
      "Predicho: Ankle boot\n",
      "Real: Ankle boot\n",
      "\n",
      "1. Mostrar siguiente imagen\n",
      "2. Salir.\n",
      "1\n"
     ]
    },
    {
     "data": {
      "image/png": "[encoded data removed]",
      "text/plain": [
       "<Figure size 432x288 with 1 Axes>"
      ]
     },
     "metadata": {
      "needs_background": "light"
     },
     "output_type": "display_data"
    },
    {
     "name": "stdout",
     "output_type": "stream",
     "text": [
      "Predicho: Sneaker\n",
      "Real: Sneaker\n",
      "\n",
      "1. Mostrar siguiente imagen\n",
      "2. Salir.\n",
      "1\n"
     ]
    },
    {
     "data": {
      "image/png": "[encoded data removed]",
      "text/plain": [
       "<Figure size 432x288 with 1 Axes>"
      ]
     },
     "metadata": {
      "needs_background": "light"
     },
     "output_type": "display_data"
    },
    {
     "name": "stdout",
     "output_type": "stream",
     "text": [
      "Predicho: Shirt\n",
      "Real: Shirt\n",
      "\n",
      "1. Mostrar siguiente imagen\n",
      "2. Salir.\n",
      "1\n"
     ]
    },
    {
     "data": {
      "image/png": "[encoded data removed]",
      "text/plain": [
       "<Figure size 432x288 with 1 Axes>"
      ]
     },
     "metadata": {
      "needs_background": "light"
     },
     "output_type": "display_data"
    },
    {
     "name": "stdout",
     "output_type": "stream",
     "text": [
      "Predicho: Sandal\n",
      "Real: Sandal\n",
      "\n",
      "1. Mostrar siguiente imagen\n",
      "2. Salir.\n",
      "1\n"
     ]
    },
    {
     "data": {
      "image/png": "[encoded data removed]",
      "text/plain": [
       "<Figure size 432x288 with 1 Axes>"
      ]
     },
     "metadata": {
      "needs_background": "light"
     },
     "output_type": "display_data"
    },
    {
     "name": "stdout",
     "output_type": "stream",
     "text": [
      "Predicho: Bag\n",
      "Real: Bag\n",
      "\n",
      "1. Mostrar siguiente imagen\n",
      "2. Salir.\n",
      "1\n"
     ]
    },
    {
     "data": {
      "image/png": "[encoded data removed]",
      "text/plain": [
       "<Figure size 432x288 with 1 Axes>"
      ]
     },
     "metadata": {
      "needs_background": "light"
     },
     "output_type": "display_data"
    },
    {
     "name": "stdout",
     "output_type": "stream",
     "text": [
      "Predicho: Dress\n",
      "Real: Dress\n",
      "\n",
      "1. Mostrar siguiente imagen\n",
      "2. Salir.\n",
      "1\n"
     ]
    },
    {
     "data": {
      "image/png": "[encoded data removed]",
      "text/plain": [
       "<Figure size 432x288 with 1 Axes>"
      ]
     },
     "metadata": {
      "needs_background": "light"
     },
     "output_type": "display_data"
    },
    {
     "name": "stdout",
     "output_type": "stream",
     "text": [
      "Predicho: Dress\n",
      "Real: Dress\n",
      "\n",
      "1. Mostrar siguiente imagen\n",
      "2. Salir.\n",
      "1\n"
     ]
    },
    {
     "data": {
      "image/png": "[encoded data removed]",
      "text/plain": [
       "<Figure size 432x288 with 1 Axes>"
      ]
     },
     "metadata": {
      "needs_background": "light"
     },
     "output_type": "display_data"
    },
    {
     "name": "stdout",
     "output_type": "stream",
     "text": [
      "Predicho: Dress\n",
      "Real: Dress\n",
      "\n",
      "1. Mostrar siguiente imagen\n",
      "2. Salir.\n",
      "2\n"
     ]
    }
   ],
   "source": [
    "op = 0\n",
    "nums = []\n",
    "\n",
    "# and cont < len(a[-1])\n",
    "\n",
    "while op != \"2\":\n",
    "    num = random.randint(0, len(a[-1]))\n",
    "    while num in nums:\n",
    "        nums.append(num)\n",
    "        \n",
    "    pixels = listToMatrix(x_test.values[num], 28)\n",
    "    \n",
    "    # Convert the pixels into an array using numpy\n",
    "    array = np.array(pixels, dtype=np.uint8)\n",
    "\n",
    "    # Use PIL to create an image from the new array of pixels\n",
    "    new_image = Image.fromarray(array)\n",
    "    new_image.save('test.png')\n",
    "    \n",
    "    img = mpimg.imread('test.png')\n",
    "    imgplot = plt.imshow(img)\n",
    "    \n",
    "    plt.show()\n",
    "    print(\"Predicho: \" + mnist[maximos[num]])\n",
    "    print(\"Real: \" + mnist[y_test[num][0]])\n",
    "    \n",
    "#     cont += 1\n",
    "    \n",
    "    op = input(\"\\n1. Mostrar siguiente imagen\\n2. Salir.\\n\")"
   ]
  },
  {
   "cell_type": "markdown",
   "metadata": {},
   "source": [
    "En el paso anterior se pueden observar cuantas predicciones se quiera hasta que se presione la opción de salir."
   ]
  },
  {
   "cell_type": "markdown",
   "metadata": {},
   "source": [
    "Podemos ver, como se mencionó, se acertó un 88% y que, en los casos que fallan es porque ambas vestimentas se parecen bastante. \n",
    "En general, es posible notar que predice bastante bien y no hay overfitting."
   ]
  }
 ],
 "metadata": {
  "kernelspec": {
   "display_name": "Python 3",
   "language": "python",
   "name": "python3"
  },
  "language_info": {
   "codemirror_mode": {
    "name": "ipython",
    "version": 3
   },
   "file_extension": ".py",
   "mimetype": "text/x-python",
   "name": "python",
   "nbconvert_exporter": "python",
   "pygments_lexer": "ipython3",
   "version": "3.8.2"
  }
 },
 "nbformat": 4,
 "nbformat_minor": 4
}
